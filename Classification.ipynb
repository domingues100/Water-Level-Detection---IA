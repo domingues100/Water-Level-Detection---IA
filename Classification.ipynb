{
  "cells": [
    {
      "cell_type": "markdown",
      "metadata": {
        "id": "view-in-github",
        "colab_type": "text"
      },
      "source": [
        "<a href=\"https://colab.research.google.com/github/domingues100/Water-Level-Detection---IA/blob/main/Classification.ipynb\" target=\"_parent\"><img src=\"https://colab.research.google.com/assets/colab-badge.svg\" alt=\"Open In Colab\"/></a>"
      ]
    },
    {
      "cell_type": "markdown",
      "metadata": {
        "id": "5savH5UHnplo"
      },
      "source": [
        "\n",
        "\n",
        "# **Drive**"
      ]
    },
    {
      "cell_type": "code",
      "execution_count": 13,
      "metadata": {
        "colab": {
          "base_uri": "https://localhost:8080/"
        },
        "id": "fLdsXvwzniPF",
        "outputId": "e7bb84f2-cd56-491d-abf2-97bd37e335bb"
      },
      "outputs": [
        {
          "output_type": "stream",
          "name": "stdout",
          "text": [
            "Mounted at /content/drive\n"
          ]
        }
      ],
      "source": [
        "from google.colab import drive\n",
        "drive.mount('/content/drive')"
      ]
    },
    {
      "cell_type": "markdown",
      "metadata": {
        "id": "vcjHTZ67nueW"
      },
      "source": [
        "# IMPORTS"
      ]
    },
    {
      "cell_type": "code",
      "execution_count": null,
      "metadata": {
        "id": "yBYMRa8wohPR"
      },
      "outputs": [],
      "source": [
        "import os\n",
        "from shutil import copy2\n",
        "import csv\n",
        "from __future__ import absolute_import, division, print_function, unicode_literals\n",
        "import tensorflow as tf\n",
        "import numpy as np\n",
        "import matplotlib.pyplot as plt\n",
        "import tensorflow_hub as hub\n",
        "tf.__version__\n",
        "import pandas as pd\n",
        "import PIL\n",
        "from tensorflow import keras\n",
        "from keras import layers\n",
        "from keras.layers import Dense, Flatten\n",
        "from keras.models import Sequential\n",
        "from sklearn.model_selection import KFold, StratifiedKFold\n",
        "from tensorflow.keras.preprocessing.image import ImageDataGenerator\n",
        "import gc\n",
        "import statistics\n",
        "from sklearn.metrics import mean_absolute_error\n",
        "from sklearn.metrics import mean_squared_error\n",
        "from sklearn.metrics import r2_score\n",
        "from sklearn.metrics import classification_report"
      ]
    },
    {
      "cell_type": "markdown",
      "metadata": {
        "id": "8ipxcrFCbd5y"
      },
      "source": [
        "# **KFOLD**"
      ]
    },
    {
      "cell_type": "code",
      "execution_count": null,
      "metadata": {
        "id": "VSYJxkSDt5xT"
      },
      "outputs": [],
      "source": [
        "train_data = pd.read_csv('PATH CSV')\n",
        "\n",
        "for ind in train_data.index:\n",
        "\n",
        "   train_data['label'][ind] = (train_data['label'][ind] - 3 ) #classes are 3, 4, 5, 6, 7 -> 0, 1, 2, 3, 4\n",
        "\n",
        "train_data['label']=train_data[\"label\"].values.astype(str)\n",
        "\n",
        "Y = train_data[['label']]\n"
      ]
    },
    {
      "cell_type": "code",
      "execution_count": null,
      "metadata": {
        "id": "AvKNAE3hgePW"
      },
      "outputs": [],
      "source": [
        "image_dir = \"IMAGE PATH\"\n",
        "\n",
        "#Define kfold\n",
        "\n",
        "skf = StratifiedKFold(n_splits = 10, random_state = 7, shuffle = True)\n",
        "\n",
        "#Define epochs\n",
        "\n",
        "num_epochs = 150"
      ]
    },
    {
      "cell_type": "markdown",
      "metadata": {
        "id": "D-bdOM3buG8s"
      },
      "source": [
        "We don’t need to create X, because as mentioned in the documentation page for StratifiedKFold , it is sufficient to provide only the labels Y to generate the splits and hence we can put np.zeros(n_samples) instead of X.\n"
      ]
    },
    {
      "cell_type": "code",
      "execution_count": null,
      "metadata": {
        "id": "FKs__FKtu2Xc"
      },
      "outputs": [],
      "source": [
        "#Image Data Generator\n",
        "\n",
        "idg = ImageDataGenerator(width_shift_range=0.1,\n",
        "                         height_shift_range=0.1,\n",
        "                         zoom_range=0.3,\n",
        "                         fill_mode='nearest',\n",
        "                         horizontal_flip = True,\n",
        "                         rescale=1./255)\n",
        "\n",
        "# just to save weights name\n",
        "\n",
        "def get_model_name(k):\n",
        "    return 'model_'+str(k)+'.h5'"
      ]
    },
    {
      "cell_type": "code",
      "execution_count": null,
      "metadata": {
        "id": "8YK9Up3WvC0S"
      },
      "outputs": [],
      "source": [
        "VALIDATION_ACCURACY = []\n",
        "VALIDATION_LOSS = []\n",
        "predicted = []\n",
        "validation_data1 = []\n",
        "\n",
        "\n",
        "save_dir = \"SAVE DIRECTORY\"\n",
        "fold_var = 1\n",
        "\n",
        "n = Y.size\n",
        "\n",
        "for train_index, val_index in skf.split(np.zeros(n),Y):\n",
        "  training_data = train_data.iloc[train_index]\n",
        "  validation_data = train_data.iloc[val_index]\n",
        "  validation_data1.append(validation_data)\n",
        "\n",
        "  training_data.to_csv(f\"{save_dir}/training_data{fold_var}.csv\") #saves training_data in a csv\n",
        "  validation_data.to_csv(f\"{save_dir}/validation_data{fold_var}.csv\") #saves validation_data in a csv\n",
        "\n",
        "  train_data_generator = idg.flow_from_dataframe(training_data, directory = image_dir,\n",
        "\t\t\t\t\t\t       x_col = \"id\", y_col = \"label\",\n",
        "\t\t\t\t\t\t       class_mode = \"categorical\", shuffle = True)\n",
        "\n",
        "  valid_data_generator  = idg.flow_from_dataframe(validation_data, directory = image_dir,\n",
        "\t\t\t\t\t\t\tx_col = \"id\", y_col = \"label\",\n",
        "\t\t\t\t\t\t\tclass_mode = \"categorical\", shuffle = False)\n",
        "\n",
        "  model = keras.Sequential([\n",
        "      hub.KerasLayer(\"https://tfhub.dev/google/imagenet/resnet_v2_50/classification/5\",\n",
        "                     output_shape=[1280],\n",
        "                     trainable=False),\n",
        "      keras.layers.Dropout(0.4),\n",
        "      keras.layers.Dense(5, activation='softmax')])\n",
        "\n",
        "\n",
        "  model.build([None, 224, 224, 3])\n",
        "\n",
        "  optimizer = tf.keras.optimizers.Adam(learning_rate=1e-3)\n",
        "\n",
        "\t# COMPILE NEW MODEL\n",
        "  model.compile(loss='categorical_crossentropy', optimizer=optimizer, metrics=['accuracy'])\n",
        "\n",
        "\t# CREATE CALLBACKS\n",
        "  checkpoint = tf.keras.callbacks.ModelCheckpoint(save_dir+get_model_name(fold_var), monitor='val_accuracy', verbose=1, save_best_only=False, mode='max')\n",
        "  callbacks_list = [checkpoint]\n",
        "\n",
        "\n",
        "\t# FIT THE MODEL\n",
        "  history = model.fit(train_data_generator, epochs=num_epochs, callbacks=callbacks_list, validation_data=valid_data_generator)\n",
        "\n",
        "\t# LOAD MODEL\n",
        "  model.load_weights(f\"{save_dir}/model_\"+str(fold_var)+\".h5\")\n",
        "\n",
        "  results = model.evaluate(valid_data_generator)\n",
        "  results = dict(zip(model.metrics_names,results))\n",
        "\n",
        "  pred = model.predict(valid_data_generator)\n",
        "  predicted.append(np.argmax(pred,axis=1))\n",
        "\n",
        "  VALIDATION_ACCURACY.append(results['accuracy'])\n",
        "  VALIDATION_LOSS.append(results['loss'])\n",
        "\n",
        "  tf.keras.backend.clear_session()\n",
        "\n",
        "  fold_var += 1\n",
        "  gc.collect()"
      ]
    },
    {
      "cell_type": "markdown",
      "metadata": {
        "id": "puHdnyVbB9Tb"
      },
      "source": [
        "# Load Model"
      ]
    },
    {
      "cell_type": "markdown",
      "metadata": {
        "id": "ukeNCrE_kZJ0"
      },
      "source": [
        "Necessary run diretory cells and idg before\n",
        "\n"
      ]
    },
    {
      "cell_type": "code",
      "execution_count": null,
      "metadata": {
        "id": "O4lO63lBApM9"
      },
      "outputs": [],
      "source": [
        "from keras.models import load_model\n",
        "\n",
        "model = keras.Sequential([\n",
        "      hub.KerasLayer(\"https://tfhub.dev/google/imagenet/resnet_v2_50/classification/5\",\n",
        "                     output_shape=[1280],\n",
        "                     trainable=False),\n",
        "      keras.layers.Dropout(0.4),\n",
        "      keras.layers.Dense(5, activation='softmax')])\n",
        "\n",
        "model.build([None, 224, 224, 3])\n",
        "\n",
        "optimizer = tf.keras.optimizers.Adam(learning_rate=1e-3)\n",
        "\n",
        "model.compile(loss='categorical_crossentropy', optimizer=optimizer, metrics=['accuracy'])"
      ]
    },
    {
      "cell_type": "code",
      "execution_count": null,
      "metadata": {
        "id": "EXsJPZ4vABT2"
      },
      "outputs": [],
      "source": [
        "var = 1\n",
        "accuracy = []\n",
        "k=0\n",
        "\n",
        "for k in range(10):\n",
        "\n",
        "  validation_data = pd.read_csv(\"PATH WITH VALIDATION CSV\")\n",
        "  for ind in validation_data.index:\n",
        "    validation_data['label'][ind] = (validation_data['label'][ind] - 3 )\n",
        "\n",
        "  validation_data['label']=validation_data[\"label\"].values.astype(str)\n",
        "\n",
        "  valid_data_generator  = idg.flow_from_dataframe(validation_data, directory = image_dir,\n",
        "                x_col = \"image_name\", y_col = \"category\",\n",
        "                class_mode = \"categorical\", shuffle = False)\n",
        "\n",
        "  model.load_weights(f\"{save_dir}/model_{k+1}.h5\")\n",
        "  pred = model.predict(valid_data_generator)\n",
        "  predicted = np.argmax(pred,axis=1)\n",
        "  i = 0\n",
        "\n",
        "  for itens in validation_data:\n",
        "    val_data = validation_data[\"label\"] .values.tolist()\n",
        "\n",
        "\n",
        "  val_data = list(map(int, val_data))\n",
        "  print(val_data)\n",
        "  j=0\n",
        "  resultado = 0\n",
        "  for elements in val_data:\n",
        "    if val_data[j] == predicted[j]:\n",
        "      resultado += 1\n",
        "    j += 1\n",
        "\n",
        "  accuracy.append(resultado/len(val_data))\n",
        "  k += 1\n",
        "\n",
        "  dados = {\"predicted\": predicted, \"label\": val_data}\n",
        "\n",
        "  df = pd.DataFrame(dados)\n",
        "  df.to_csv(f\"PATH TO SAVE/df{k}.csv\")\n"
      ]
    },
    {
      "cell_type": "markdown",
      "metadata": {
        "id": "1vnMF3Bdg7DV"
      },
      "source": [
        "# Predição"
      ]
    },
    {
      "cell_type": "code",
      "execution_count": null,
      "metadata": {
        "id": "-Di0OB0og-lu"
      },
      "outputs": [],
      "source": [
        "#MAE, MSE, R2\n",
        "\n",
        "erro = []\n",
        "erro2 = []\n",
        "erro3 = []\n",
        "\n",
        "for number in range(1,11):\n",
        "  dados = pd.read_csv(f\"PATH TO SAVED PREDICTIONS/df{number}.csv\")\n",
        "\n",
        "  for ind in dados.index:\n",
        "   dados['label'][ind] = (dados['label'][ind] + 3 )\n",
        "   dados['predicted'][ind] = (dados['predicted'][ind] + 3 )\n",
        "\n",
        "  predicted = dados[\"predicted\"].tolist()\n",
        "  label = dados[\"label\"].tolist()\n",
        "  erro.append(mean_absolute_error(predicted, label))\n",
        "  erro2.append(mean_squared_error(predicted, label))\n",
        "  erro3.append(r2_score(predicted,label))"
      ]
    },
    {
      "cell_type": "code",
      "execution_count": null,
      "metadata": {
        "id": "GzY3s90lLR_6"
      },
      "outputs": [],
      "source": [
        "df = pd.DataFrame(erro,columns = [\"EMA\"])\n",
        "df['EMQ'] = erro2\n",
        "df['r2'] = erro3\n",
        "iteracoes = [\"1\", '2', '3', '4', '5', '6', '7', '8', '9', '10']\n",
        "df[\"Iterações\"] = iteracoes"
      ]
    },
    {
      "cell_type": "code",
      "execution_count": null,
      "metadata": {
        "id": "cQx8KApMhjH3"
      },
      "outputs": [],
      "source": [
        "print(statistics.mean(erro))\n",
        "print(statistics.mean(erro2))\n",
        "print(statistics.mean(erro3))"
      ]
    },
    {
      "cell_type": "code",
      "execution_count": null,
      "metadata": {
        "colab": {
          "base_uri": "https://localhost:8080/"
        },
        "id": "aRyKrM2Cup5q",
        "outputId": "1f3eb7b9-6140-4d24-d984-28ce2ded9766"
      },
      "outputs": [
        {
          "name": "stdout",
          "output_type": "stream",
          "text": [
            "              precision    recall  f1-score   support\n",
            "\n",
            "           3       0.93      0.96      0.94        26\n",
            "           4       0.86      0.81      0.83        37\n",
            "           5       0.81      0.75      0.78        40\n",
            "           6       0.89      0.83      0.86        48\n",
            "           7       0.83      0.92      0.87        63\n",
            "\n",
            "    accuracy                           0.86       214\n",
            "   macro avg       0.86      0.86      0.86       214\n",
            "weighted avg       0.86      0.86      0.85       214\n",
            "\n"
          ]
        }
      ],
      "source": [
        "#Necessary put all the preds in the same csv or run multiple times\n",
        "\n",
        "dados = pd.read_csv(\"CSV WITH ALL PRED FOR K\")\n",
        "target_names = ['3', '4', '5', '6', '7']\n",
        "predicted = dados[\"predicted\"].tolist()\n",
        "label = dados[\"label\"].tolist()\n",
        "\n",
        "print(classification_report(label, predicted , target_names=target_names))"
      ]
    },
    {
      "cell_type": "markdown",
      "metadata": {
        "id": "qv7b_EzfXiyf"
      },
      "source": [
        "# contagem"
      ]
    },
    {
      "cell_type": "code",
      "source": [
        "import matplotlib.pyplot as plt\n",
        "\n",
        "class_3 = 26\n",
        "class_4 = 37\n",
        "class_5 = 40\n",
        "class_6 = 48\n",
        "class_7 = 63\n",
        "\n",
        "# Dados de exemplo\n",
        "labels = ['3 Bars', '4 Bars', '5 Bars', '6 Bars', '7 Bars']\n",
        "sizes = [class_3, class_4, class_5, class_6, class_7]\n",
        "\n",
        "# Cria o gráfico de pizza\n",
        "fig1, ax1 = plt.subplots(figsize = (5,5))\n",
        "ax1.pie(sizes, autopct='%1.1f%%')\n",
        "plt.legend(labels, loc='center left', bbox_to_anchor=(0.8, 1), fontsize=12)\n",
        "ax1.axis('equal')\n",
        "for text in ax1.texts:\n",
        "    text.set_fontsize(16)\n",
        "plt.savefig('pizza.pdf', dpi=100)\n",
        "\n",
        "plt.show()"
      ],
      "metadata": {
        "colab": {
          "base_uri": "https://localhost:8080/",
          "height": 490
        },
        "id": "BKXj_4TsGI8D",
        "outputId": "708db85e-3ed9-40fd-e4d0-81efde444337"
      },
      "execution_count": 11,
      "outputs": [
        {
          "output_type": "display_data",
          "data": {
            "text/plain": [
              "<Figure size 500x500 with 1 Axes>"
            ],
            "image/png": "[encoded data removed]"
          },
          "metadata": {}
        }
      ]
    },
    {
      "cell_type": "markdown",
      "source": [
        "***confusion matrix plot***"
      ],
      "metadata": {
        "id": "yJ98LH3BG-B4"
      }
    },
    {
      "cell_type": "code",
      "execution_count": 15,
      "metadata": {
        "id": "xFPEPwqv0H37"
      },
      "outputs": [],
      "source": [
        "import pandas as pd\n",
        "from sklearn.metrics import confusion_matrix\n",
        "from sklearn.metrics import ConfusionMatrixDisplay\n",
        "import matplotlib\n",
        "matplotlib.use('pdf')\n",
        "import matplotlib.pyplot as plt\n",
        "import seaborn as sns\n",
        "\n",
        "df = pd.read_csv(\"/content/drive/MyDrive/IC_Machine_Learning/Model_Save/Resultados/Planilha_todas_pred.csv\")\n",
        "\n",
        "y_test = df['label'].tolist()\n",
        "y_pred = df['predicted'].tolist()\n",
        "\n",
        "cm = confusion_matrix(y_test, y_pred)\n",
        "fig, ax = plt.subplots()\n",
        "labels = ['3', '4', '5', '6', '7']\n",
        "plt.figure(figsize=(4, 3))\n",
        "\n",
        "plt.rcParams.update({'font.size': 16})\n",
        "disp = ConfusionMatrixDisplay.from_predictions(y_test, y_pred,cmap=plt.cm.Blues,colorbar = False)\n",
        "fig = disp.ax_.get_figure()\n",
        "fig.set_figwidth(3)\n",
        "fig.set_figheight(3)\n",
        "ax.set_xlabel('Eixo X', fontsize=16)\n",
        "ax.set_ylabel('Eixo Y', fontsize=16)\n",
        "\n",
        "\n",
        "plt.gcf().axes[0].tick_params(labelsize=12)\n",
        "plt.show()\n",
        "plt.savefig('matriz_classification.pdf', dpi=160, bbox_inches='tight', pad_inches=0.1, format='pdf')\n",
        "plt.close()"
      ]
    },
    {
      "cell_type": "markdown",
      "metadata": {
        "id": "_yEgoaWKYd8o"
      },
      "source": [
        "# Boxplot\n",
        "\n"
      ]
    },
    {
      "cell_type": "code",
      "execution_count": null,
      "metadata": {
        "id": "wVK0XRF9lkIw"
      },
      "outputs": [],
      "source": [
        "# Load package\n",
        "import pandas as pd, numpy as np\n",
        "import matplotlib.pyplot as plt\n",
        "%matplotlib inline\n",
        "plt.rcParams.update({'figure.figsize':(7,5), 'figure.dpi':100})\n",
        "\n",
        "# Creating dataset\n",
        "df = pd.read_csv(\"/content/drive/MyDrive/IC_Machine_Learning/Model_Save/Resultados/Planilha_todas_pred.csv\")\n",
        "\n",
        "# plot\n",
        "plt.boxplot(df['predicted'],boxprops=dict(color='red'))\n",
        "plt.title('Simple Boxplot');"
      ]
    }
  ],
  "metadata": {
    "accelerator": "GPU",
    "colab": {
      "collapsed_sections": [
        "vcjHTZ67nueW",
        "qATYpp0y5NtH",
        "g7ZAaoWWrnaf",
        "8ipxcrFCbd5y",
        "puHdnyVbB9Tb",
        "qv7b_EzfXiyf"
      ],
      "provenance": [],
      "authorship_tag": "ABX9TyObPZvuTzbIB5IlDTA+81We",
      "include_colab_link": true
    },
    "gpuClass": "standard",
    "kernelspec": {
      "display_name": "Python 3",
      "name": "python3"
    },
    "language_info": {
      "name": "python"
    }
  },
  "nbformat": 4,
  "nbformat_minor": 0
}